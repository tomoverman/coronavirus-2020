{
 "cells": [
  {
   "cell_type": "code",
   "execution_count": 79,
   "metadata": {},
   "outputs": [],
   "source": [
    "import numpy as np\n",
    "import matplotlib.pyplot as plt\n",
    "from utils import data\n",
    "import os\n",
    "import sklearn\n",
    "import numpy as np\n",
    "from sklearn.neighbors import (\n",
    "    KNeighborsClassifier,\n",
    "    DistanceMetric\n",
    ")\n",
    "import json"
   ]
  },
  {
   "cell_type": "code",
   "execution_count": 82,
   "metadata": {},
   "outputs": [],
   "source": [
    "BASE_PATH = 'COVID-19/csse_covid_19_data/'\n",
    "MIN_CASES = 1000"
   ]
  },
  {
   "cell_type": "code",
   "execution_count": 83,
   "metadata": {},
   "outputs": [],
   "source": [
    "confirmed = os.path.join(\n",
    "    BASE_PATH, \n",
    "    'csse_covid_19_time_series',\n",
    "    'time_series_covid19_confirmed_global.csv')\n",
    "confirmed = data.load_csv_data(confirmed)\n",
    "features = []\n",
    "targets = []\n",
    "\n",
    "for val in np.unique(confirmed[\"Country/Region\"]):\n",
    "    df = data.filter_by_attribute(\n",
    "        confirmed, \"Country/Region\", val)\n",
    "    cases, labels = data.get_cases_chronologically(df)\n",
    "    features.append(cases)\n",
    "    targets.append(labels)\n",
    "\n",
    "features = np.concatenate(features, axis=0)\n",
    "targets = np.concatenate(targets, axis=0)"
   ]
  },
  {
   "cell_type": "code",
   "execution_count": 84,
   "metadata": {},
   "outputs": [
    {
     "data": {
      "text/plain": [
       "array([[0, 0, 0, ..., 71838, 72977, 74026],\n",
       "       [0, 0, 0, ..., 132315, 132337, 132351],\n",
       "       [0, 0, 0, ..., 128913, 129218, 129640],\n",
       "       ...,\n",
       "       [0, 0, 0, ..., 6742, 6751, 6759],\n",
       "       [0, 0, 0, ..., 95263, 95821, 96563],\n",
       "       [0, 0, 0, ..., 38961, 38998, 39031]], dtype=object)"
      ]
     },
     "execution_count": 84,
     "metadata": {},
     "output_type": "execute_result"
    }
   ],
   "source": [
    "features"
   ]
  },
  {
   "cell_type": "code",
   "execution_count": 85,
   "metadata": {},
   "outputs": [],
   "source": [
    "targets_adj = targets[:,1]"
   ]
  },
  {
   "cell_type": "markdown",
   "metadata": {},
   "source": [
    "<h1>Stochastic Gradient Descent</h1>"
   ]
  },
  {
   "cell_type": "code",
   "execution_count": 86,
   "metadata": {},
   "outputs": [],
   "source": [
    "from sklearn.linear_model import SGDClassifier"
   ]
  },
  {
   "cell_type": "code",
   "execution_count": 87,
   "metadata": {},
   "outputs": [
    {
     "name": "stderr",
     "output_type": "stream",
     "text": [
      "/usr/local/lib/python3.8/site-packages/sklearn/linear_model/_stochastic_gradient.py:570: ConvergenceWarning: Maximum number of iteration reached before convergence. Consider increasing max_iter to improve the fit.\n",
      "  warnings.warn(\"Maximum number of iteration reached before \"\n"
     ]
    }
   ],
   "source": [
    "model = SGDClassifier(loss=\"hinge\", penalty=\"l2\", max_iter=200000)\n",
    "model = model.fit(features,targets_adj)"
   ]
  },
  {
   "cell_type": "code",
   "execution_count": 90,
   "metadata": {},
   "outputs": [],
   "source": [
    "pred=model.predict(features)"
   ]
  },
  {
   "cell_type": "code",
   "execution_count": 91,
   "metadata": {
    "scrolled": true
   },
   "outputs": [
    {
     "data": {
      "text/plain": [
       "0.007246376811594203"
      ]
     },
     "execution_count": 91,
     "metadata": {},
     "output_type": "execute_result"
    }
   ],
   "source": [
    "np.sum(targets_adj==pred)/len(targets_adj)"
   ]
  },
  {
   "cell_type": "markdown",
   "metadata": {},
   "source": [
    "<h1>Decision Trees</h1>"
   ]
  },
  {
   "cell_type": "code",
   "execution_count": 92,
   "metadata": {},
   "outputs": [],
   "source": [
    "from sklearn import tree\n",
    "model = tree.DecisionTreeClassifier()\n",
    "model = model.fit(features,targets_adj)"
   ]
  },
  {
   "cell_type": "code",
   "execution_count": 93,
   "metadata": {},
   "outputs": [],
   "source": [
    "pred = model.predict(features)"
   ]
  },
  {
   "cell_type": "code",
   "execution_count": 94,
   "metadata": {},
   "outputs": [
    {
     "data": {
      "text/plain": [
       "1.0"
      ]
     },
     "execution_count": 94,
     "metadata": {},
     "output_type": "execute_result"
    }
   ],
   "source": [
    "np.sum(targets_adj==pred)/len(targets_adj)"
   ]
  },
  {
   "cell_type": "markdown",
   "metadata": {},
   "source": [
    "Now slightly perturb input features with some random noise and see if decision trees are still accurate"
   ]
  },
  {
   "cell_type": "code",
   "execution_count": 95,
   "metadata": {
    "scrolled": true
   },
   "outputs": [],
   "source": [
    "r=features.shape[0]\n",
    "c=features.shape[1]\n",
    "pert = np.random.rand(r,c)*2 -1\n",
    "features_perturbed = features+pert"
   ]
  },
  {
   "cell_type": "code",
   "execution_count": 96,
   "metadata": {},
   "outputs": [
    {
     "data": {
      "text/plain": [
       "0.7028985507246377"
      ]
     },
     "execution_count": 96,
     "metadata": {},
     "output_type": "execute_result"
    }
   ],
   "source": [
    "pred = model.predict(features_perturbed)\n",
    "np.sum(targets_adj==pred)/len(targets_adj)"
   ]
  },
  {
   "cell_type": "markdown",
   "metadata": {},
   "source": [
    "<h1>Clustering Countries by Covid-19 Data</h1>"
   ]
  },
  {
   "cell_type": "code",
   "execution_count": 97,
   "metadata": {},
   "outputs": [],
   "source": [
    "from sklearn.cluster import KMeans"
   ]
  },
  {
   "cell_type": "markdown",
   "metadata": {},
   "source": [
    "<h2>Clustering with 3 clusters</h2>"
   ]
  },
  {
   "cell_type": "code",
   "execution_count": 98,
   "metadata": {},
   "outputs": [],
   "source": [
    "clusters = KMeans(n_clusters=3, random_state=0).fit(features)\n",
    "clust=clusters.labels_"
   ]
  },
  {
   "cell_type": "code",
   "execution_count": 99,
   "metadata": {},
   "outputs": [
    {
     "data": {
      "text/plain": [
       "array(['Brazil', 'India'], dtype=object)"
      ]
     },
     "execution_count": 99,
     "metadata": {},
     "output_type": "execute_result"
    }
   ],
   "source": [
    "targets_adj[np.where(clust==1)]"
   ]
  },
  {
   "cell_type": "code",
   "execution_count": 100,
   "metadata": {},
   "outputs": [
    {
     "data": {
      "text/plain": [
       "array(['US'], dtype=object)"
      ]
     },
     "execution_count": 100,
     "metadata": {},
     "output_type": "execute_result"
    }
   ],
   "source": [
    "targets_adj[np.where(clust==2)]"
   ]
  },
  {
   "cell_type": "code",
   "execution_count": 101,
   "metadata": {},
   "outputs": [
    {
     "data": {
      "text/plain": [
       "array(['Afghanistan', 'Albania', 'Algeria', 'Andorra', 'Angola',\n",
       "       'Antigua and Barbuda', 'Argentina', 'Armenia', 'Australia',\n",
       "       'Australia', 'Australia', 'Australia', 'Australia', 'Australia',\n",
       "       'Australia', 'Australia', 'Austria', 'Azerbaijan', 'Bahamas',\n",
       "       'Bahrain', 'Bangladesh', 'Barbados', 'Belarus', 'Belgium',\n",
       "       'Belize', 'Benin', 'Bhutan', 'Bolivia', 'Bosnia and Herzegovina',\n",
       "       'Botswana', 'Brunei', 'Bulgaria', 'Burkina Faso', 'Burma',\n",
       "       'Burundi', 'Cabo Verde', 'Cambodia', 'Cameroon', 'Canada',\n",
       "       'Canada', 'Canada', 'Canada', 'Canada', 'Canada', 'Canada',\n",
       "       'Canada', 'Canada', 'Canada', 'Canada', 'Canada', 'Canada',\n",
       "       'Canada', 'Canada', 'Canada', 'Central African Republic', 'Chad',\n",
       "       'Chile', 'China', 'China', 'China', 'China', 'China', 'China',\n",
       "       'China', 'China', 'China', 'China', 'China', 'China', 'China',\n",
       "       'China', 'China', 'China', 'China', 'China', 'China', 'China',\n",
       "       'China', 'China', 'China', 'China', 'China', 'China', 'China',\n",
       "       'China', 'China', 'China', 'China', 'China', 'China', 'China',\n",
       "       'Colombia', 'Comoros', 'Congo (Brazzaville)', 'Congo (Kinshasa)',\n",
       "       'Costa Rica', \"Cote d'Ivoire\", 'Croatia', 'Cuba', 'Cyprus',\n",
       "       'Czechia', 'Denmark', 'Denmark', 'Denmark', 'Diamond Princess',\n",
       "       'Djibouti', 'Dominica', 'Dominican Republic', 'Ecuador', 'Egypt',\n",
       "       'El Salvador', 'Equatorial Guinea', 'Eritrea', 'Estonia',\n",
       "       'Eswatini', 'Ethiopia', 'Fiji', 'Finland', 'France', 'France',\n",
       "       'France', 'France', 'France', 'France', 'France', 'France',\n",
       "       'France', 'France', 'France', 'France', 'Gabon', 'Gambia',\n",
       "       'Georgia', 'Germany', 'Ghana', 'Greece', 'Grenada', 'Guatemala',\n",
       "       'Guinea', 'Guinea-Bissau', 'Guyana', 'Haiti', 'Holy See',\n",
       "       'Honduras', 'Hungary', 'Iceland', 'Indonesia', 'Iran', 'Iraq',\n",
       "       'Ireland', 'Israel', 'Italy', 'Jamaica', 'Japan', 'Jordan',\n",
       "       'Kazakhstan', 'Kenya', 'Kiribati', 'Korea, South', 'Kosovo',\n",
       "       'Kuwait', 'Kyrgyzstan', 'Laos', 'Latvia', 'Lebanon', 'Lesotho',\n",
       "       'Liberia', 'Libya', 'Liechtenstein', 'Lithuania', 'Luxembourg',\n",
       "       'MS Zaandam', 'Madagascar', 'Malawi', 'Malaysia', 'Maldives',\n",
       "       'Mali', 'Malta', 'Marshall Islands', 'Mauritania', 'Mauritius',\n",
       "       'Mexico', 'Micronesia', 'Moldova', 'Monaco', 'Mongolia',\n",
       "       'Montenegro', 'Morocco', 'Mozambique', 'Namibia', 'Nepal',\n",
       "       'Netherlands', 'Netherlands', 'Netherlands', 'Netherlands',\n",
       "       'Netherlands', 'New Zealand', 'Nicaragua', 'Niger', 'Nigeria',\n",
       "       'North Macedonia', 'Norway', 'Oman', 'Pakistan', 'Panama',\n",
       "       'Papua New Guinea', 'Paraguay', 'Peru', 'Philippines', 'Poland',\n",
       "       'Portugal', 'Qatar', 'Romania', 'Russia', 'Rwanda',\n",
       "       'Saint Kitts and Nevis', 'Saint Lucia',\n",
       "       'Saint Vincent and the Grenadines', 'Samoa', 'San Marino',\n",
       "       'Sao Tome and Principe', 'Saudi Arabia', 'Senegal', 'Serbia',\n",
       "       'Seychelles', 'Sierra Leone', 'Singapore', 'Slovakia', 'Slovenia',\n",
       "       'Solomon Islands', 'Somalia', 'South Africa', 'South Sudan',\n",
       "       'Spain', 'Sri Lanka', 'Sudan', 'Suriname', 'Sweden', 'Switzerland',\n",
       "       'Syria', 'Taiwan*', 'Tajikistan', 'Tanzania', 'Thailand',\n",
       "       'Timor-Leste', 'Togo', 'Trinidad and Tobago', 'Tunisia', 'Turkey',\n",
       "       'Uganda', 'Ukraine', 'United Arab Emirates', 'United Kingdom',\n",
       "       'United Kingdom', 'United Kingdom', 'United Kingdom',\n",
       "       'United Kingdom', 'United Kingdom', 'United Kingdom',\n",
       "       'United Kingdom', 'United Kingdom', 'United Kingdom',\n",
       "       'United Kingdom', 'United Kingdom', 'Uruguay', 'Uzbekistan',\n",
       "       'Vanuatu', 'Venezuela', 'Vietnam', 'West Bank and Gaza', 'Yemen',\n",
       "       'Zambia', 'Zimbabwe'], dtype=object)"
      ]
     },
     "execution_count": 101,
     "metadata": {},
     "output_type": "execute_result"
    }
   ],
   "source": [
    "targets_adj[np.where(clust==0)]"
   ]
  },
  {
   "cell_type": "markdown",
   "metadata": {},
   "source": [
    "That's an interesting result and one that makes sense. Brazil and India are clutered together due to their still-increasing high numbers of positive cases. US is clustered by itself because it had extremely high case numbers but is rapidly decreasing in new cases due to successful vaccination efforts. The rest of the countries are then grouped together."
   ]
  },
  {
   "cell_type": "markdown",
   "metadata": {},
   "source": [
    "<h2>Clustering with 5 clusters</h2>"
   ]
  },
  {
   "cell_type": "code",
   "execution_count": 102,
   "metadata": {},
   "outputs": [],
   "source": [
    "clusters = KMeans(n_clusters=5, random_state=0).fit(features)\n",
    "clust=clusters.labels_"
   ]
  },
  {
   "cell_type": "code",
   "execution_count": 103,
   "metadata": {},
   "outputs": [
    {
     "data": {
      "text/plain": [
       "array(['Brazil', 'India'], dtype=object)"
      ]
     },
     "execution_count": 103,
     "metadata": {},
     "output_type": "execute_result"
    }
   ],
   "source": [
    "targets_adj[np.where(clust==1)]"
   ]
  },
  {
   "cell_type": "code",
   "execution_count": 104,
   "metadata": {},
   "outputs": [
    {
     "data": {
      "text/plain": [
       "array(['US'], dtype=object)"
      ]
     },
     "execution_count": 104,
     "metadata": {},
     "output_type": "execute_result"
    }
   ],
   "source": [
    "targets_adj[np.where(clust==2)]"
   ]
  },
  {
   "cell_type": "code",
   "execution_count": 105,
   "metadata": {},
   "outputs": [
    {
     "data": {
      "text/plain": [
       "array(['Argentina', 'Colombia', 'France', 'Germany', 'Italy', 'Russia',\n",
       "       'Spain', 'Turkey', 'United Kingdom'], dtype=object)"
      ]
     },
     "execution_count": 105,
     "metadata": {},
     "output_type": "execute_result"
    }
   ],
   "source": [
    "targets_adj[np.where(clust==3)]"
   ]
  },
  {
   "cell_type": "code",
   "execution_count": 106,
   "metadata": {},
   "outputs": [
    {
     "data": {
      "text/plain": [
       "array(['Bangladesh', 'Belgium', 'Chile', 'Czechia', 'Indonesia', 'Iran',\n",
       "       'Iraq', 'Israel', 'Mexico', 'Netherlands', 'Pakistan', 'Peru',\n",
       "       'Philippines', 'Poland', 'Portugal', 'Romania', 'South Africa',\n",
       "       'Sweden', 'Ukraine'], dtype=object)"
      ]
     },
     "execution_count": 106,
     "metadata": {},
     "output_type": "execute_result"
    }
   ],
   "source": [
    "targets_adj[np.where(clust==4)]"
   ]
  },
  {
   "cell_type": "markdown",
   "metadata": {},
   "source": [
    "<h3>Clustering with 7 clusters</h3>"
   ]
  },
  {
   "cell_type": "code",
   "execution_count": 107,
   "metadata": {},
   "outputs": [],
   "source": [
    "clusters = KMeans(n_clusters=7, random_state=0).fit(features)\n",
    "clust=clusters.labels_"
   ]
  },
  {
   "cell_type": "code",
   "execution_count": 108,
   "metadata": {},
   "outputs": [
    {
     "data": {
      "text/plain": [
       "array(['India'], dtype=object)"
      ]
     },
     "execution_count": 108,
     "metadata": {},
     "output_type": "execute_result"
    }
   ],
   "source": [
    "targets_adj[np.where(clust==1)]"
   ]
  },
  {
   "cell_type": "code",
   "execution_count": 109,
   "metadata": {},
   "outputs": [
    {
     "data": {
      "text/plain": [
       "array(['US'], dtype=object)"
      ]
     },
     "execution_count": 109,
     "metadata": {},
     "output_type": "execute_result"
    }
   ],
   "source": [
    "targets_adj[np.where(clust==2)]"
   ]
  },
  {
   "cell_type": "code",
   "execution_count": 110,
   "metadata": {},
   "outputs": [
    {
     "data": {
      "text/plain": [
       "array(['Argentina', 'Colombia', 'Germany', 'Iran', 'Mexico', 'Peru',\n",
       "       'Poland', 'South Africa', 'Ukraine'], dtype=object)"
      ]
     },
     "execution_count": 110,
     "metadata": {},
     "output_type": "execute_result"
    }
   ],
   "source": [
    "targets_adj[np.where(clust==3)]"
   ]
  },
  {
   "cell_type": "code",
   "execution_count": 111,
   "metadata": {},
   "outputs": [
    {
     "data": {
      "text/plain": [
       "array(['Brazil'], dtype=object)"
      ]
     },
     "execution_count": 111,
     "metadata": {},
     "output_type": "execute_result"
    }
   ],
   "source": [
    "targets_adj[np.where(clust==4)]"
   ]
  },
  {
   "cell_type": "code",
   "execution_count": 112,
   "metadata": {},
   "outputs": [
    {
     "data": {
      "text/plain": [
       "array(['France', 'Italy', 'Russia', 'Spain', 'Turkey', 'United Kingdom'],\n",
       "      dtype=object)"
      ]
     },
     "execution_count": 112,
     "metadata": {},
     "output_type": "execute_result"
    }
   ],
   "source": [
    "targets_adj[np.where(clust==5)]"
   ]
  },
  {
   "cell_type": "code",
   "execution_count": 113,
   "metadata": {},
   "outputs": [
    {
     "data": {
      "text/plain": [
       "array(['Austria', 'Bangladesh', 'Belgium', 'Chile', 'Czechia', 'Hungary',\n",
       "       'Indonesia', 'Iraq', 'Israel', 'Japan', 'Jordan', 'Morocco',\n",
       "       'Netherlands', 'Pakistan', 'Philippines', 'Portugal', 'Romania',\n",
       "       'Saudi Arabia', 'Serbia', 'Sweden', 'Switzerland',\n",
       "       'United Arab Emirates'], dtype=object)"
      ]
     },
     "execution_count": 113,
     "metadata": {},
     "output_type": "execute_result"
    }
   ],
   "source": [
    "targets_adj[np.where(clust==6)]"
   ]
  },
  {
   "cell_type": "code",
   "execution_count": 114,
   "metadata": {},
   "outputs": [
    {
     "data": {
      "text/plain": [
       "array(['Afghanistan', 'Albania', 'Algeria', 'Andorra', 'Angola',\n",
       "       'Antigua and Barbuda', 'Armenia', 'Australia', 'Australia',\n",
       "       'Australia', 'Australia', 'Australia', 'Australia', 'Australia',\n",
       "       'Australia', 'Azerbaijan', 'Bahamas', 'Bahrain', 'Barbados',\n",
       "       'Belarus', 'Belize', 'Benin', 'Bhutan', 'Bolivia',\n",
       "       'Bosnia and Herzegovina', 'Botswana', 'Brunei', 'Bulgaria',\n",
       "       'Burkina Faso', 'Burma', 'Burundi', 'Cabo Verde', 'Cambodia',\n",
       "       'Cameroon', 'Canada', 'Canada', 'Canada', 'Canada', 'Canada',\n",
       "       'Canada', 'Canada', 'Canada', 'Canada', 'Canada', 'Canada',\n",
       "       'Canada', 'Canada', 'Canada', 'Canada', 'Canada',\n",
       "       'Central African Republic', 'Chad', 'China', 'China', 'China',\n",
       "       'China', 'China', 'China', 'China', 'China', 'China', 'China',\n",
       "       'China', 'China', 'China', 'China', 'China', 'China', 'China',\n",
       "       'China', 'China', 'China', 'China', 'China', 'China', 'China',\n",
       "       'China', 'China', 'China', 'China', 'China', 'China', 'China',\n",
       "       'China', 'China', 'China', 'Comoros', 'Congo (Brazzaville)',\n",
       "       'Congo (Kinshasa)', 'Costa Rica', \"Cote d'Ivoire\", 'Croatia',\n",
       "       'Cuba', 'Cyprus', 'Denmark', 'Denmark', 'Denmark',\n",
       "       'Diamond Princess', 'Djibouti', 'Dominica', 'Dominican Republic',\n",
       "       'Ecuador', 'Egypt', 'El Salvador', 'Equatorial Guinea', 'Eritrea',\n",
       "       'Estonia', 'Eswatini', 'Ethiopia', 'Fiji', 'Finland', 'France',\n",
       "       'France', 'France', 'France', 'France', 'France', 'France',\n",
       "       'France', 'France', 'France', 'France', 'Gabon', 'Gambia',\n",
       "       'Georgia', 'Ghana', 'Greece', 'Grenada', 'Guatemala', 'Guinea',\n",
       "       'Guinea-Bissau', 'Guyana', 'Haiti', 'Holy See', 'Honduras',\n",
       "       'Iceland', 'Ireland', 'Jamaica', 'Kazakhstan', 'Kenya', 'Kiribati',\n",
       "       'Korea, South', 'Kosovo', 'Kuwait', 'Kyrgyzstan', 'Laos', 'Latvia',\n",
       "       'Lebanon', 'Lesotho', 'Liberia', 'Libya', 'Liechtenstein',\n",
       "       'Lithuania', 'Luxembourg', 'MS Zaandam', 'Madagascar', 'Malawi',\n",
       "       'Malaysia', 'Maldives', 'Mali', 'Malta', 'Marshall Islands',\n",
       "       'Mauritania', 'Mauritius', 'Micronesia', 'Moldova', 'Monaco',\n",
       "       'Mongolia', 'Montenegro', 'Mozambique', 'Namibia', 'Nepal',\n",
       "       'Netherlands', 'Netherlands', 'Netherlands', 'Netherlands',\n",
       "       'New Zealand', 'Nicaragua', 'Niger', 'Nigeria', 'North Macedonia',\n",
       "       'Norway', 'Oman', 'Panama', 'Papua New Guinea', 'Paraguay',\n",
       "       'Qatar', 'Rwanda', 'Saint Kitts and Nevis', 'Saint Lucia',\n",
       "       'Saint Vincent and the Grenadines', 'Samoa', 'San Marino',\n",
       "       'Sao Tome and Principe', 'Senegal', 'Seychelles', 'Sierra Leone',\n",
       "       'Singapore', 'Slovakia', 'Slovenia', 'Solomon Islands', 'Somalia',\n",
       "       'South Sudan', 'Sri Lanka', 'Sudan', 'Suriname', 'Syria',\n",
       "       'Taiwan*', 'Tajikistan', 'Tanzania', 'Thailand', 'Timor-Leste',\n",
       "       'Togo', 'Trinidad and Tobago', 'Tunisia', 'Uganda',\n",
       "       'United Kingdom', 'United Kingdom', 'United Kingdom',\n",
       "       'United Kingdom', 'United Kingdom', 'United Kingdom',\n",
       "       'United Kingdom', 'United Kingdom', 'United Kingdom',\n",
       "       'United Kingdom', 'United Kingdom', 'Uruguay', 'Uzbekistan',\n",
       "       'Vanuatu', 'Venezuela', 'Vietnam', 'West Bank and Gaza', 'Yemen',\n",
       "       'Zambia', 'Zimbabwe'], dtype=object)"
      ]
     },
     "execution_count": 114,
     "metadata": {},
     "output_type": "execute_result"
    }
   ],
   "source": [
    "targets_adj[np.where(clust==0)]"
   ]
  },
  {
   "cell_type": "markdown",
   "metadata": {},
   "source": [
    "<h1>Prediction Classification for US States</h1>"
   ]
  },
  {
   "cell_type": "markdown",
   "metadata": {},
   "source": [
    "<h2>Decision Trees</h2>"
   ]
  },
  {
   "cell_type": "code",
   "execution_count": 115,
   "metadata": {},
   "outputs": [],
   "source": [
    "from sklearn.cluster import KMeans"
   ]
  },
  {
   "cell_type": "code",
   "execution_count": 116,
   "metadata": {},
   "outputs": [],
   "source": [
    "confirmed_st = os.path.join(\n",
    "    BASE_PATH, \n",
    "    'csse_covid_19_time_series',\n",
    "    'time_series_covid19_confirmed_US.csv')\n",
    "confirmed_st = data.load_csv_data(confirmed_st)\n",
    "features_st = []\n",
    "targets_st = []\n",
    "\n",
    "for val in np.unique(confirmed_st[\"Combined_Key\"]):\n",
    "    df = data.filter_by_attribute(\n",
    "        confirmed_st, \"Combined_Key\", val)\n",
    "    cases, labels = data.get_cases_chronologically_st(df)\n",
    "    features_st.append(cases)\n",
    "    targets_st.append(labels)\n",
    "\n",
    "features_st = np.concatenate(features_st, axis=0)\n",
    "targets_st = np.concatenate(targets_st, axis=0)"
   ]
  },
  {
   "cell_type": "code",
   "execution_count": 117,
   "metadata": {},
   "outputs": [],
   "source": [
    "targets_st_adj = targets_st[:,6]"
   ]
  },
  {
   "cell_type": "code",
   "execution_count": 118,
   "metadata": {},
   "outputs": [],
   "source": [
    "from sklearn import tree\n",
    "model = tree.DecisionTreeClassifier()\n",
    "model = model.fit(features_st,targets_st_adj)"
   ]
  },
  {
   "cell_type": "code",
   "execution_count": 119,
   "metadata": {},
   "outputs": [],
   "source": [
    "pred=model.predict(features_st)"
   ]
  },
  {
   "cell_type": "code",
   "execution_count": 120,
   "metadata": {},
   "outputs": [
    {
     "data": {
      "text/plain": [
       "0.9838420107719928"
      ]
     },
     "execution_count": 120,
     "metadata": {},
     "output_type": "execute_result"
    }
   ],
   "source": [
    "np.sum(targets_st_adj==pred)/len(targets_st_adj)"
   ]
  },
  {
   "cell_type": "markdown",
   "metadata": {},
   "source": [
    "<h2>Stochastic Gradient Descent</h2>"
   ]
  },
  {
   "cell_type": "code",
   "execution_count": 121,
   "metadata": {},
   "outputs": [],
   "source": [
    "from sklearn.linear_model import SGDClassifier"
   ]
  },
  {
   "cell_type": "code",
   "execution_count": 122,
   "metadata": {},
   "outputs": [],
   "source": [
    "model = SGDClassifier(loss=\"hinge\", penalty=\"l2\", max_iter=200000)\n",
    "model = model.fit(features_st,targets_st_adj)"
   ]
  },
  {
   "cell_type": "code",
   "execution_count": 123,
   "metadata": {},
   "outputs": [],
   "source": [
    "pred=model.predict(features_st)"
   ]
  },
  {
   "cell_type": "code",
   "execution_count": 124,
   "metadata": {},
   "outputs": [
    {
     "data": {
      "text/plain": [
       "0.06223818073010173"
      ]
     },
     "execution_count": 124,
     "metadata": {},
     "output_type": "execute_result"
    }
   ],
   "source": [
    "np.sum(targets_st_adj==pred)/len(targets_st_adj)"
   ]
  },
  {
   "cell_type": "code",
   "execution_count": null,
   "metadata": {},
   "outputs": [],
   "source": []
  }
 ],
 "metadata": {
  "kernelspec": {
   "display_name": "Python 3",
   "language": "python",
   "name": "python3"
  },
  "language_info": {
   "codemirror_mode": {
    "name": "ipython",
    "version": 3
   },
   "file_extension": ".py",
   "mimetype": "text/x-python",
   "name": "python",
   "nbconvert_exporter": "python",
   "pygments_lexer": "ipython3",
   "version": "3.8.3"
  }
 },
 "nbformat": 4,
 "nbformat_minor": 4
}
